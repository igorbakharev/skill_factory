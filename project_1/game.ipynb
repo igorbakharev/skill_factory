{
 "cells": [
  {
   "cell_type": "markdown",
   "metadata": {},
   "source": [
    "## Guess a number from 1 to 100 in less than 20 attempts ##\n",
    "\n",
    "### Сonditions ###\n",
    "\n",
    "* The computer guesses an integer from 1 to 100 to be found.\n",
    "* The algorithm takes into account information if the random number is less than or greater than the required number.\n",
    "\n",
    "### Quality assessment ###\n",
    "\n",
    "The results are evaluated by the average number of attempts per 1000 repetitions. The goal is to get the minimum number of attempts.\n",
    "\n",
    "### Personal goals ###\n",
    "\n",
    "* Create a nice Python code\n",
    "* Learning the IDE\n",
    "* Exploring GitHub"
   ]
  },
  {
   "cell_type": "code",
   "execution_count": 4,
   "metadata": {},
   "outputs": [
    {
     "name": "stdout",
     "output_type": "stream",
     "text": [
      "The algorithm finds the right number in 5 attempts in average.\n"
     ]
    }
   ],
   "source": [
    "import numpy as np\n",
    "\n",
    "def random_predict(number:int = 1) -> int:\n",
    "    \"\"\" A function that returns the number of attempts to guess a number from 1 to 100\n",
    "\n",
    "    Args:\n",
    "        number (int, optional): given number. Defaults to 1.\n",
    "\n",
    "    Returns:\n",
    "        int: Number of attempts\n",
    "    \"\"\"\n",
    "    count = 0 # number of attempts\n",
    "    predict_number = 50 # we start with the median of [1, 100] which is 50\n",
    "    \n",
    "    \"\"\"\n",
    "    We will cut an interval where the guessed number is into two equal parts.\n",
    "    lower_bound and upper_bound are the bounds of decreasing intervals\n",
    "    with default values 0 and 100 respectively.\n",
    "    \"\"\"\n",
    "    \n",
    "    lower_bound = 0\n",
    "    upper_bound = 100\n",
    "\n",
    "    while True:\n",
    "        count = count + 1\n",
    "        if number == predict_number:\n",
    "            break\n",
    "        if number < predict_number:\n",
    "            upper_bound = predict_number\n",
    "        if number > predict_number:\n",
    "            lower_bound = predict_number\n",
    "        predict_number = int(round((lower_bound + upper_bound) / 2))\n",
    "    \n",
    "    return count\n",
    "\n",
    "\n",
    "def score_game(random_predict) -> int:\n",
    "    \"\"\"Average number of guesses in 1000 attempts \n",
    "\n",
    "    Args:\n",
    "        random_predict (_type_): function that guesses the number and return the number of attempts\n",
    "\n",
    "    Returns:\n",
    "        int: anerage number of attempts\n",
    "    \"\"\"\n",
    "    count_ls = []\n",
    "    np.random.seed(1)\n",
    "    random_array = np.random.randint(1, 101, size = (1000))\n",
    "    \n",
    "    for number in random_array:\n",
    "        count_ls.append(random_predict(number))\n",
    "        \n",
    "    score = int(np.mean(count_ls))\n",
    "    print(f'The algorithm finds the right number in {score} attempts in average.')\n",
    "    return score\n",
    "\n",
    "if __name__ == '__main__':\n",
    "    score_game(random_predict)"
   ]
  },
  {
   "cell_type": "code",
   "execution_count": 5,
   "metadata": {},
   "outputs": [
    {
     "name": "stdout",
     "output_type": "stream",
     "text": [
      "The algorithm finds the right number in 5 attempts in average.\n"
     ]
    },
    {
     "data": {
      "text/plain": [
       "5"
      ]
     },
     "execution_count": 5,
     "metadata": {},
     "output_type": "execute_result"
    }
   ],
   "source": [
    "score_game(random_predict)"
   ]
  }
 ],
 "metadata": {
  "interpreter": {
   "hash": "9603a98de3ad9c3d505ab336ed9bf634b44f6dc1490bfe593c85cfdd532d93ec"
  },
  "kernelspec": {
   "display_name": "Python 3.9.12 64-bit",
   "language": "python",
   "name": "python3"
  },
  "language_info": {
   "codemirror_mode": {
    "name": "ipython",
    "version": 3
   },
   "file_extension": ".py",
   "mimetype": "text/x-python",
   "name": "python",
   "nbconvert_exporter": "python",
   "pygments_lexer": "ipython3",
   "version": "3.9.12"
  },
  "orig_nbformat": 4
 },
 "nbformat": 4,
 "nbformat_minor": 2
}
