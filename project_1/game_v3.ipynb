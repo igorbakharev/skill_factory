{
 "cells": [
  {
   "cell_type": "markdown",
   "metadata": {},
   "source": [
    "## Guess a number from 1 to 100 in less than 20 tries ##\n",
    "\n",
    "### Сonditions ###\n",
    "\n",
    "* The computer guesses an integer from 1 to 100 to be found.\n",
    "* The algorithm takes into account information if the random number is less than or greater than the required number.\n",
    "\n",
    "### Quality assessment ###\n",
    "\n",
    "The results are evaluated by the average number of attempts per 1000 repetitions. The goal is to get the minimum number of attempts.\n",
    "\n",
    "### Personal goals ###\n",
    "\n",
    "* Create a nice Python code\n",
    "* Learning the IDE\n",
    "* Exploring GitHub"
   ]
  },
  {
   "cell_type": "code",
   "execution_count": 1,
   "metadata": {},
   "outputs": [
    {
     "name": "stdout",
     "output_type": "stream",
     "text": [
      "Your algorithm finds the right number in 5 trials in average.\n"
     ]
    },
    {
     "data": {
      "text/plain": [
       "5"
      ]
     },
     "execution_count": 1,
     "metadata": {},
     "output_type": "execute_result"
    }
   ],
   "source": [
    "\n",
    "from game_v3 import score_game\n",
    "from game_v3 import random_predict\n",
    "score_game(random_predict)"
   ]
  }
 ],
 "metadata": {
  "interpreter": {
   "hash": "9603a98de3ad9c3d505ab336ed9bf634b44f6dc1490bfe593c85cfdd532d93ec"
  },
  "kernelspec": {
   "display_name": "Python 3.9.12 64-bit",
   "language": "python",
   "name": "python3"
  },
  "language_info": {
   "codemirror_mode": {
    "name": "ipython",
    "version": 3
   },
   "file_extension": ".py",
   "mimetype": "text/x-python",
   "name": "python",
   "nbconvert_exporter": "python",
   "pygments_lexer": "ipython3",
   "version": "3.9.12"
  },
  "orig_nbformat": 4
 },
 "nbformat": 4,
 "nbformat_minor": 2
}
